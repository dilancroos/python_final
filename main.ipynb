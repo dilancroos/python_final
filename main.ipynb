{
 "cells": [
  {
   "cell_type": "markdown",
   "metadata": {},
   "source": [
    "1. Created a venv & document the requirements<br>\n",
    "2. Created cal counter function<br>\n",
    "3. Updated to handle combos<br>\n",
    "4. Updated to handle errors<br>\n",
    "5. Modified to detect even if typed in lower case"
   ]
  },
  {
   "cell_type": "code",
   "execution_count": 5,
   "metadata": {},
   "outputs": [
    {
     "name": "stdout",
     "output_type": "stream",
     "text": [
      "Item 'Tacos' not found\n",
      "The total calory count is 690\n"
     ]
    }
   ],
   "source": [
    "import backEnd.utils as utils\n",
    "\n",
    "\n",
    "results = utils.calories_counter('lemonade','tacos','hamburger')\n",
    "print(f\"The total calory count is {results}\")"
   ]
  },
  {
   "cell_type": "markdown",
   "metadata": {},
   "source": [
    "# loop through method\n",
    "6. Use more complex data<br>\n",
    "7. Can order by meal or combo\n",
    "8. Can order by id or name\n",
    "\n",
    "TODO: Can't Catch the error\n"
   ]
  },
  {
   "cell_type": "code",
   "execution_count": 6,
   "metadata": {},
   "outputs": [
    {
     "name": "stdout",
     "output_type": "stream",
     "text": [
      "The total calory count is 1070\n"
     ]
    }
   ],
   "source": [
    "import backEnd.utils as utils\n",
    "\n",
    "results = utils.comp_cal_counter('combo-1')\n",
    "print(f\"The total calory count is {results}\")"
   ]
  },
  {
   "cell_type": "markdown",
   "metadata": {},
   "source": [
    "# dictionary method\n",
    "\n",
    "9. Can order by meal or combo\n",
    "10. Can order by id or name\n"
   ]
  },
  {
   "cell_type": "code",
   "execution_count": 7,
   "metadata": {},
   "outputs": [
    {
     "name": "stdout",
     "output_type": "stream",
     "text": [
      "Item 'this combo' not found 2\n",
      "0\n"
     ]
    }
   ],
   "source": [
    "import backEnd.utils as utils\n",
    "\n",
    "results = utils.comp_cal_counter2('this combo')\n",
    "print(results)\n",
    "# print(f\"The total calory count is {results}\")"
   ]
  }
 ],
 "metadata": {
  "kernelspec": {
   "display_name": ".venv",
   "language": "python",
   "name": "python3"
  },
  "language_info": {
   "codemirror_mode": {
    "name": "ipython",
    "version": 3
   },
   "file_extension": ".py",
   "mimetype": "text/x-python",
   "name": "python",
   "nbconvert_exporter": "python",
   "pygments_lexer": "ipython3",
   "version": "3.11.5"
  },
  "orig_nbformat": 4
 },
 "nbformat": 4,
 "nbformat_minor": 2
}
