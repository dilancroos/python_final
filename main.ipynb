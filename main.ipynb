{
 "cells": [
  {
   "cell_type": "markdown",
   "metadata": {},
   "source": [
    "1. Created a venv & document the requirements<br>\n",
    "2. Created cal counter function<br>\n",
    "3. Updated to handle combos<br>\n",
    "4. Updated to handle errors<br>\n",
    "5. Modified to detect even if typed in lower case"
   ]
  },
  {
   "cell_type": "code",
   "execution_count": 1,
   "metadata": {},
   "outputs": [
    {
     "name": "stdout",
     "output_type": "stream",
     "text": [
      "The total calory count is 1070\n"
     ]
    }
   ],
   "source": [
    "import backEnd.utils as utils\n",
    "\n",
    "# uses the first set of food items and combos\n",
    "results = utils.calories_counter('Cheesy Combo')\n",
    "\n",
    "# uncomment below line to test the exception\n",
    "# results = utils.calories_counter('Hamburger','Lemonade','Cheesy Combo','Cheesy Combo') \n",
    "print(f\"The total calory count is {results}\")"
   ]
  },
  {
   "cell_type": "markdown",
   "metadata": {},
   "source": [
    "# loop through method\n",
    "6. Use more complex data<br>\n",
    "7. Can order by meal or combo\n",
    "8. Can order by id or name\n",
    "\n",
    "TODO: Can't Catch the error\n"
   ]
  },
  {
   "cell_type": "code",
   "execution_count": 2,
   "metadata": {},
   "outputs": [
    {
     "name": "stdout",
     "output_type": "stream",
     "text": [
      "The total calory count is 1070\n"
     ]
    }
   ],
   "source": [
    "results = utils.comp_cal_counter('combo-1')\n",
    "print(f\"The total calory count is {results}\")"
   ]
  },
  {
   "cell_type": "markdown",
   "metadata": {},
   "source": [
    "# dictionary method\n",
    "\n",
    "9. Can order by meal or combo\n",
    "10. Can order by id or name\n"
   ]
  },
  {
   "cell_type": "code",
   "execution_count": 3,
   "metadata": {},
   "outputs": [
    {
     "name": "stdout",
     "output_type": "stream",
     "text": [
      "The total calory count is 1070\n"
     ]
    }
   ],
   "source": [
    "results = utils.comp_cal_counter2('combo-1')\n",
    "print(f\"The total calory count is {results}\")"
   ]
  },
  {
   "cell_type": "markdown",
   "metadata": {},
   "source": [
    "# Price counter"
   ]
  },
  {
   "cell_type": "code",
   "execution_count": 4,
   "metadata": {},
   "outputs": [
    {
     "name": "stdout",
     "output_type": "stream",
     "text": [
      "The total price is 18\n"
     ]
    }
   ],
   "source": [
    "results = utils.price_counter('meal-1','meal-2','meal-3')\n",
    "\n",
    "print(f\"The total price is {results}\")"
   ]
  },
  {
   "cell_type": "markdown",
   "metadata": {},
   "source": [
    "# Using json files"
   ]
  },
  {
   "cell_type": "code",
   "execution_count": 5,
   "metadata": {},
   "outputs": [
    {
     "name": "stdout",
     "output_type": "stream",
     "text": [
      "The total calory count is 1070\n"
     ]
    }
   ],
   "source": [
    "import backEnd.jsonUtils as ju\n",
    "\n",
    "results = ju.comp_cal_counter_json('combo-1')\n",
    "print(f\"The total calory count is {results}\")\n"
   ]
  },
  {
   "cell_type": "code",
   "execution_count": 6,
   "metadata": {},
   "outputs": [
    {
     "name": "stdout",
     "output_type": "stream",
     "text": [
      "The total price is 18\n"
     ]
    }
   ],
   "source": [
    "results = ju.price_counter_json('meal-1','meal-2','meal-3')\n",
    "\n",
    "print(f\"The total price is {results}\")"
   ]
  },
  {
   "cell_type": "code",
   "execution_count": null,
   "metadata": {},
   "outputs": [],
   "source": [
    "# using classes.py file in the backEnd folder, we can import the classes and use them in main.ipynb\n",
    "import backEnd.classes as classes\n",
    "\n",
    "order = classes.Order('Combo-1')\n",
    "print(order.calories)"
   ]
  }
 ],
 "metadata": {
  "kernelspec": {
   "display_name": ".venv",
   "language": "python",
   "name": "python3"
  },
  "language_info": {
   "codemirror_mode": {
    "name": "ipython",
    "version": 3
   },
   "file_extension": ".py",
   "mimetype": "text/x-python",
   "name": "python",
   "nbconvert_exporter": "python",
   "pygments_lexer": "ipython3",
   "version": "3.11.6"
  },
  "orig_nbformat": 4
 },
 "nbformat": 4,
 "nbformat_minor": 2
}
