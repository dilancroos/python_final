{
 "cells": [
  {
   "cell_type": "markdown",
   "metadata": {},
   "source": [
    "1. Created a venv & document the requirements<br>\n",
    "2. Created cal counter function<br>\n",
    "3. Updated to handle combos<br>\n",
    "4. Updated to handle errors<br>\n",
    "5. Modified to detect even if typed in lower case"
   ]
  },
  {
   "cell_type": "code",
   "execution_count": 1,
   "metadata": {},
   "outputs": [
    {
     "name": "stdout",
     "output_type": "stream",
     "text": [
      "The total calory count is 1070\n"
     ]
    }
   ],
   "source": [
    "import backEnd.utils as utils\n",
    "\n",
    "# uses the first set of food items and combos\n",
    "results = utils.calories_counter('Cheesy Combo')\n",
    "\n",
    "# uncomment below line to test the exception\n",
    "# results = utils.calories_counter('Hamburger','Lemonade','Cheesy Combo','Cheesy Combo') \n",
    "print(f\"The total calory count is {results}\")"
   ]
  },
  {
   "cell_type": "markdown",
   "metadata": {},
   "source": [
    "# loop through method\n",
    "6. Use more complex data<br>\n",
    "7. Can order by meal or combo\n",
    "8. Can order by id or name\n",
    "\n",
    "TODO: Can't Catch the error\n"
   ]
  },
  {
   "cell_type": "code",
   "execution_count": 2,
   "metadata": {},
   "outputs": [
    {
     "name": "stdout",
     "output_type": "stream",
     "text": [
      "The total calory count is 1070\n"
     ]
    }
   ],
   "source": [
    "results = utils.comp_cal_counter('combo-1')\n",
    "print(f\"The total calory count is {results}\")"
   ]
  },
  {
   "cell_type": "markdown",
   "metadata": {},
   "source": [
    "# dictionary method\n",
    "\n",
    "9. Can order by meal or combo\n",
    "10. Can order by id or name\n"
   ]
  },
  {
   "cell_type": "code",
   "execution_count": 3,
   "metadata": {},
   "outputs": [
    {
     "name": "stdout",
     "output_type": "stream",
     "text": [
      "The total calory count is 1070\n"
     ]
    }
   ],
   "source": [
    "results = utils.comp_cal_counter2('combo-1')\n",
    "print(f\"The total calory count is {results}\")"
   ]
  },
  {
   "cell_type": "markdown",
   "metadata": {},
   "source": [
    "# Price counter"
   ]
  },
  {
   "cell_type": "code",
   "execution_count": 4,
   "metadata": {},
   "outputs": [
    {
     "name": "stdout",
     "output_type": "stream",
     "text": [
      "The total price is 18\n"
     ]
    }
   ],
   "source": [
    "results = utils.price_counter('meal-1','meal-2','meal-3')\n",
    "\n",
    "print(f\"The total price is {results}\")"
   ]
  },
  {
   "cell_type": "markdown",
   "metadata": {},
   "source": [
    "# Using json files"
   ]
  },
  {
   "cell_type": "code",
   "execution_count": 5,
   "metadata": {},
   "outputs": [
    {
     "name": "stdout",
     "output_type": "stream",
     "text": [
      "The total calory count is 1100\n"
     ]
    }
   ],
   "source": [
    "import backEnd.jsonUtils as ju\n",
    "\n",
    "results = ju.comp_cal_counter_json('meal-3', 'combo-2')\n",
    "print(f\"The total calory count is {results}\")\n"
   ]
  },
  {
   "cell_type": "code",
   "execution_count": 6,
   "metadata": {},
   "outputs": [
    {
     "name": "stdout",
     "output_type": "stream",
     "text": [
      "The total price is 18\n"
     ]
    }
   ],
   "source": [
    "results = ju.price_counter_json('meal-1','meal-2','meal-3')\n",
    "\n",
    "print(f\"The total price is {results}\")"
   ]
  },
  {
   "cell_type": "code",
   "execution_count": 7,
   "metadata": {},
   "outputs": [
    {
     "name": "stdout",
     "output_type": "stream",
     "text": [
      "The total price is 18\n"
     ]
    }
   ],
   "source": [
    "results = ju.price_counter_json('meal-1','meal-2','meal-3')\n",
    "\n",
    "print(f\"The total price is {results}\")"
   ]
  },
  {
   "cell_type": "code",
   "execution_count": 8,
   "metadata": {},
   "outputs": [],
   "source": [
    "import json\n",
    "from backEnd.classes import Order\n",
    "\n",
    "with open('data/orders_history.json', 'r') as f:\n",
    "    data = json.load(f)[\"orders\"]\n",
    "\n",
    "orderObj = []\n",
    "for order in data:\n",
    "    orderObj.append(Order(** order))"
   ]
  },
  {
   "cell_type": "code",
   "execution_count": 9,
   "metadata": {},
   "outputs": [
    {
     "name": "stdout",
     "output_type": "stream",
     "text": [
      "Order ID:  order-1\n",
      "Order Date:  2022-01-01 00:00:00\n",
      "Order Items:  ['meal-2', 'meal-6', 'meal-5']\n",
      "Order Calories:  995\n",
      "Order Price:  14\n"
     ]
    }
   ],
   "source": [
    "len(orderObj)\n",
    "test = orderObj[0]\n",
    "print(\"Order ID: \", test.order_id)\n",
    "print(\"Order Date: \", test.date)\n",
    "print(\"Order Items: \", test.items)\n",
    "print(\"Order Calories: \", test.calories)\n",
    "print(\"Order Price: \", test.price)\n"
   ]
  },
  {
   "cell_type": "code",
   "execution_count": 10,
   "metadata": {},
   "outputs": [
    {
     "data": {
      "text/html": [
       "<div>\n",
       "<style scoped>\n",
       "    .dataframe tbody tr th:only-of-type {\n",
       "        vertical-align: middle;\n",
       "    }\n",
       "\n",
       "    .dataframe tbody tr th {\n",
       "        vertical-align: top;\n",
       "    }\n",
       "\n",
       "    .dataframe thead th {\n",
       "        text-align: right;\n",
       "    }\n",
       "</style>\n",
       "<table border=\"1\" class=\"dataframe\">\n",
       "  <thead>\n",
       "    <tr style=\"text-align: right;\">\n",
       "      <th></th>\n",
       "      <th>items</th>\n",
       "      <th>_calories</th>\n",
       "      <th>_price</th>\n",
       "      <th>order_accepted</th>\n",
       "      <th>order_refused_reason</th>\n",
       "      <th>date</th>\n",
       "    </tr>\n",
       "    <tr>\n",
       "      <th>order_id</th>\n",
       "      <th></th>\n",
       "      <th></th>\n",
       "      <th></th>\n",
       "      <th></th>\n",
       "      <th></th>\n",
       "      <th></th>\n",
       "    </tr>\n",
       "  </thead>\n",
       "  <tbody>\n",
       "    <tr>\n",
       "      <th>order-1</th>\n",
       "      <td>[meal-2, meal-6, meal-5]</td>\n",
       "      <td>995</td>\n",
       "      <td>14</td>\n",
       "      <td>True</td>\n",
       "      <td>None</td>\n",
       "      <td>2022-01-01</td>\n",
       "    </tr>\n",
       "    <tr>\n",
       "      <th>order-2</th>\n",
       "      <td>[meal-5, combo-3, combo-3]</td>\n",
       "      <td>1140</td>\n",
       "      <td>20</td>\n",
       "      <td>True</td>\n",
       "      <td>None</td>\n",
       "      <td>2022-01-01</td>\n",
       "    </tr>\n",
       "    <tr>\n",
       "      <th>order-3</th>\n",
       "      <td>[meal-3, combo-2, combo-1]</td>\n",
       "      <td>0</td>\n",
       "      <td>0</td>\n",
       "      <td>False</td>\n",
       "      <td>Meal has 2170 calories, which is too much!</td>\n",
       "      <td>2022-01-01</td>\n",
       "    </tr>\n",
       "    <tr>\n",
       "      <th>order-4</th>\n",
       "      <td>[combo-1, combo-3]</td>\n",
       "      <td>1525</td>\n",
       "      <td>21</td>\n",
       "      <td>True</td>\n",
       "      <td>None</td>\n",
       "      <td>2022-01-01</td>\n",
       "    </tr>\n",
       "    <tr>\n",
       "      <th>order-5</th>\n",
       "      <td>[meal-2, combo-2]</td>\n",
       "      <td>1450</td>\n",
       "      <td>10</td>\n",
       "      <td>True</td>\n",
       "      <td>None</td>\n",
       "      <td>2022-01-01</td>\n",
       "    </tr>\n",
       "  </tbody>\n",
       "</table>\n",
       "</div>"
      ],
      "text/plain": [
       "                               items  _calories  _price  order_accepted  \\\n",
       "order_id                                                                  \n",
       "order-1     [meal-2, meal-6, meal-5]        995      14            True   \n",
       "order-2   [meal-5, combo-3, combo-3]       1140      20            True   \n",
       "order-3   [meal-3, combo-2, combo-1]          0       0           False   \n",
       "order-4           [combo-1, combo-3]       1525      21            True   \n",
       "order-5            [meal-2, combo-2]       1450      10            True   \n",
       "\n",
       "                                order_refused_reason       date  \n",
       "order_id                                                         \n",
       "order-1                                         None 2022-01-01  \n",
       "order-2                                         None 2022-01-01  \n",
       "order-3   Meal has 2170 calories, which is too much! 2022-01-01  \n",
       "order-4                                         None 2022-01-01  \n",
       "order-5                                         None 2022-01-01  "
      ]
     },
     "execution_count": 10,
     "metadata": {},
     "output_type": "execute_result"
    }
   ],
   "source": [
    "import pandas as pd\n",
    "\n",
    "df = pd.DataFrame([order.__dict__ for order in orderObj])\n",
    "df = df.set_index('order_id')\n",
    "df['date'] = pd.to_datetime(df['date'])\n",
    "df.head()"
   ]
  }
 ],
 "metadata": {
  "kernelspec": {
   "display_name": ".venv",
   "language": "python",
   "name": "python3"
  },
  "language_info": {
   "codemirror_mode": {
    "name": "ipython",
    "version": 3
   },
   "file_extension": ".py",
   "mimetype": "text/x-python",
   "name": "python",
   "nbconvert_exporter": "python",
   "pygments_lexer": "ipython3",
   "version": "3.11.6"
  },
  "orig_nbformat": 4
 },
 "nbformat": 4,
 "nbformat_minor": 2
}
