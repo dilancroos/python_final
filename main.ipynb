{
 "cells": [
  {
   "cell_type": "code",
   "execution_count": 1,
   "metadata": {},
   "outputs": [
    {
     "ename": "Exception",
     "evalue": "Item not found",
     "output_type": "error",
     "traceback": [
      "\u001b[0;31m---------------------------------------------------------------------------\u001b[0m",
      "\u001b[0;31mKeyError\u001b[0m                                  Traceback (most recent call last)",
      "File \u001b[0;32m~/python_on_VS/python_final/backEnd/utils.py:12\u001b[0m, in \u001b[0;36mcalories_counter\u001b[0;34m(*args)\u001b[0m\n\u001b[1;32m     11\u001b[0m \u001b[39melse\u001b[39;00m:\n\u001b[0;32m---> 12\u001b[0m     \u001b[39mfor\u001b[39;00m combo_item \u001b[39min\u001b[39;00m combos[item]:\n\u001b[1;32m     13\u001b[0m         total_calories \u001b[39m+\u001b[39m\u001b[39m=\u001b[39m calories[combo_item]\n",
      "\u001b[0;31mKeyError\u001b[0m: 'Tacos'",
      "\nDuring handling of the above exception, another exception occurred:\n",
      "\u001b[0;31mException\u001b[0m                                 Traceback (most recent call last)",
      "\u001b[1;32m/Users/dilancroos/python_on_VS/python_final/main.ipynb Cell 1\u001b[0m line \u001b[0;36m4\n\u001b[1;32m      <a href='vscode-notebook-cell:/Users/dilancroos/python_on_VS/python_final/main.ipynb#W0sZmlsZQ%3D%3D?line=0'>1</a>\u001b[0m \u001b[39mfrom\u001b[39;00m \u001b[39mbackEnd\u001b[39;00m\u001b[39m.\u001b[39;00m\u001b[39mutils\u001b[39;00m \u001b[39mimport\u001b[39;00m calories_counter\n\u001b[0;32m----> <a href='vscode-notebook-cell:/Users/dilancroos/python_on_VS/python_final/main.ipynb#W0sZmlsZQ%3D%3D?line=3'>4</a>\u001b[0m results \u001b[39m=\u001b[39m calories_counter(\u001b[39m'\u001b[39;49m\u001b[39mLemonade\u001b[39;49m\u001b[39m'\u001b[39;49m,\u001b[39m'\u001b[39;49m\u001b[39mTacos\u001b[39;49m\u001b[39m'\u001b[39;49m)\n\u001b[1;32m      <a href='vscode-notebook-cell:/Users/dilancroos/python_on_VS/python_final/main.ipynb#W0sZmlsZQ%3D%3D?line=4'>5</a>\u001b[0m \u001b[39mprint\u001b[39m(results)\n",
      "File \u001b[0;32m~/python_on_VS/python_final/backEnd/utils.py:16\u001b[0m, in \u001b[0;36mcalories_counter\u001b[0;34m(*args)\u001b[0m\n\u001b[1;32m     13\u001b[0m                 total_calories \u001b[39m+\u001b[39m\u001b[39m=\u001b[39m calories[combo_item]\n\u001b[1;32m     15\u001b[0m     \u001b[39mexcept\u001b[39;00m:\n\u001b[0;32m---> 16\u001b[0m         \u001b[39mraise\u001b[39;00m \u001b[39mException\u001b[39;00m(\u001b[39m\"\u001b[39m\u001b[39mItem not found\u001b[39m\u001b[39m\"\u001b[39m)\n\u001b[1;32m     17\u001b[0m \u001b[39m# print([calories[item] for item in items])\u001b[39;00m\n\u001b[1;32m     18\u001b[0m \u001b[39mreturn\u001b[39;00m total_calories\n",
      "\u001b[0;31mException\u001b[0m: Item not found"
     ]
    }
   ],
   "source": [
    "from backEnd.utils import calories_counter\n",
    "\n",
    "\n",
    "results = calories_counter('Lemonade','Tacos')\n",
    "print(results)"
   ]
  }
 ],
 "metadata": {
  "kernelspec": {
   "display_name": ".venv",
   "language": "python",
   "name": "python3"
  },
  "language_info": {
   "codemirror_mode": {
    "name": "ipython",
    "version": 3
   },
   "file_extension": ".py",
   "mimetype": "text/x-python",
   "name": "python",
   "nbconvert_exporter": "python",
   "pygments_lexer": "ipython3",
   "version": "3.11.5"
  },
  "orig_nbformat": 4
 },
 "nbformat": 4,
 "nbformat_minor": 2
}
