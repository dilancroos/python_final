{
 "cells": [
  {
   "cell_type": "markdown",
   "metadata": {},
   "source": [
    "1. Created a venv & document the requirements<br>\n",
    "2. Created cal counter function<br>\n",
    "3. Updated to handle combos<br>\n",
    "4. Updated to handle errors<br>\n",
    "5. Modified to detect even if typed in lower case"
   ]
  },
  {
   "cell_type": "code",
   "execution_count": 2,
   "metadata": {},
   "outputs": [
    {
     "ename": "BigMealException",
     "evalue": "Meal has 3210 calories, which is too much!",
     "output_type": "error",
     "traceback": [
      "\u001b[0;31m---------------------------------------------------------------------------\u001b[0m",
      "\u001b[0;31mBigMealException\u001b[0m                          Traceback (most recent call last)",
      "\u001b[1;32m/Users/dilancroos/python_on_VS/python_final/main.ipynb Cell 2\u001b[0m line \u001b[0;36m4\n\u001b[1;32m      <a href='vscode-notebook-cell:/Users/dilancroos/python_on_VS/python_final/main.ipynb#W1sZmlsZQ%3D%3D?line=0'>1</a>\u001b[0m \u001b[39mimport\u001b[39;00m \u001b[39mbackEnd\u001b[39;00m\u001b[39m.\u001b[39;00m\u001b[39mutils\u001b[39;00m \u001b[39mas\u001b[39;00m \u001b[39mutils\u001b[39;00m\n\u001b[1;32m      <a href='vscode-notebook-cell:/Users/dilancroos/python_on_VS/python_final/main.ipynb#W1sZmlsZQ%3D%3D?line=2'>3</a>\u001b[0m \u001b[39m# uses the first set of food items and combos\u001b[39;00m\n\u001b[0;32m----> <a href='vscode-notebook-cell:/Users/dilancroos/python_on_VS/python_final/main.ipynb#W1sZmlsZQ%3D%3D?line=3'>4</a>\u001b[0m results \u001b[39m=\u001b[39m utils\u001b[39m.\u001b[39;49mcalories_counter(\u001b[39m'\u001b[39;49m\u001b[39mCheesy Combo\u001b[39;49m\u001b[39m'\u001b[39;49m, \u001b[39m'\u001b[39;49m\u001b[39mCheesy Combo\u001b[39;49m\u001b[39m'\u001b[39;49m,\u001b[39m'\u001b[39;49m\u001b[39mCheesy Combo\u001b[39;49m\u001b[39m'\u001b[39;49m)\n\u001b[1;32m      <a href='vscode-notebook-cell:/Users/dilancroos/python_on_VS/python_final/main.ipynb#W1sZmlsZQ%3D%3D?line=5'>6</a>\u001b[0m \u001b[39m# uncomment to test the exception\u001b[39;00m\n\u001b[1;32m      <a href='vscode-notebook-cell:/Users/dilancroos/python_on_VS/python_final/main.ipynb#W1sZmlsZQ%3D%3D?line=6'>7</a>\u001b[0m \u001b[39m# results = utils.calories_counter('Hamburger','Lemonade','Cheesy Combo','Cheesy Combo') \u001b[39;00m\n\u001b[1;32m      <a href='vscode-notebook-cell:/Users/dilancroos/python_on_VS/python_final/main.ipynb#W1sZmlsZQ%3D%3D?line=7'>8</a>\u001b[0m \u001b[39mprint\u001b[39m(\u001b[39mf\u001b[39m\u001b[39m\"\u001b[39m\u001b[39mThe total calory count is \u001b[39m\u001b[39m{\u001b[39;00mresults\u001b[39m}\u001b[39;00m\u001b[39m\"\u001b[39m)\n",
      "File \u001b[0;32m~/python_on_VS/python_final/backEnd/utils.py:20\u001b[0m, in \u001b[0;36mcalories_counter\u001b[0;34m(*args)\u001b[0m\n\u001b[1;32m     17\u001b[0m         \u001b[39mprint\u001b[39m(\u001b[39mf\u001b[39m\u001b[39m\"\u001b[39m\u001b[39mItem \u001b[39m\u001b[39m'\u001b[39m\u001b[39m{\u001b[39;00mitem\u001b[39m}\u001b[39;00m\u001b[39m'\u001b[39m\u001b[39m not found\u001b[39m\u001b[39m\"\u001b[39m)\n\u001b[1;32m     19\u001b[0m \u001b[39mif\u001b[39;00m total_calories \u001b[39m>\u001b[39m \u001b[39m2000\u001b[39m:\n\u001b[0;32m---> 20\u001b[0m     \u001b[39mraise\u001b[39;00m BigMealException(total_calories)\n\u001b[1;32m     22\u001b[0m \u001b[39mreturn\u001b[39;00m total_calories\n",
      "\u001b[0;31mBigMealException\u001b[0m: Meal has 3210 calories, which is too much!"
     ]
    }
   ],
   "source": [
    "import backEnd.utils as utils\n",
    "\n",
    "# uses the first set of food items and combos\n",
    "results = utils.calories_counter('Cheesy Combo', 'Cheesy Combo','Cheesy Combo')\n",
    "\n",
    "# uncomment to test the exception\n",
    "# results = utils.calories_counter('Hamburger','Lemonade','Cheesy Combo','Cheesy Combo') \n",
    "print(f\"The total calory count is {results}\")"
   ]
  },
  {
   "cell_type": "markdown",
   "metadata": {},
   "source": [
    "# loop through method\n",
    "6. Use more complex data<br>\n",
    "7. Can order by meal or combo\n",
    "8. Can order by id or name\n",
    "\n",
    "TODO: Can't Catch the error\n"
   ]
  },
  {
   "cell_type": "code",
   "execution_count": 3,
   "metadata": {},
   "outputs": [
    {
     "ename": "BigMealException",
     "evalue": "Meal has 3210 calories, which is too much!",
     "output_type": "error",
     "traceback": [
      "\u001b[0;31m---------------------------------------------------------------------------\u001b[0m",
      "\u001b[0;31mBigMealException\u001b[0m                          Traceback (most recent call last)",
      "\u001b[1;32m/Users/dilancroos/python_on_VS/python_final/main.ipynb Cell 4\u001b[0m line \u001b[0;36m3\n\u001b[1;32m      <a href='vscode-notebook-cell:/Users/dilancroos/python_on_VS/python_final/main.ipynb#W3sZmlsZQ%3D%3D?line=0'>1</a>\u001b[0m \u001b[39mimport\u001b[39;00m \u001b[39mbackEnd\u001b[39;00m\u001b[39m.\u001b[39;00m\u001b[39mutils\u001b[39;00m \u001b[39mas\u001b[39;00m \u001b[39mutils\u001b[39;00m\n\u001b[0;32m----> <a href='vscode-notebook-cell:/Users/dilancroos/python_on_VS/python_final/main.ipynb#W3sZmlsZQ%3D%3D?line=2'>3</a>\u001b[0m results \u001b[39m=\u001b[39m utils\u001b[39m.\u001b[39;49mcomp_cal_counter(\u001b[39m'\u001b[39;49m\u001b[39mcombo-1\u001b[39;49m\u001b[39m'\u001b[39;49m, \u001b[39m'\u001b[39;49m\u001b[39mcombo-1\u001b[39;49m\u001b[39m'\u001b[39;49m, \u001b[39m'\u001b[39;49m\u001b[39mcombo-1\u001b[39;49m\u001b[39m'\u001b[39;49m)\n\u001b[1;32m      <a href='vscode-notebook-cell:/Users/dilancroos/python_on_VS/python_final/main.ipynb#W3sZmlsZQ%3D%3D?line=3'>4</a>\u001b[0m \u001b[39mprint\u001b[39m(\u001b[39mf\u001b[39m\u001b[39m\"\u001b[39m\u001b[39mThe total calory count is \u001b[39m\u001b[39m{\u001b[39;00mresults\u001b[39m}\u001b[39;00m\u001b[39m\"\u001b[39m)\n",
      "File \u001b[0;32m~/python_on_VS/python_final/backEnd/utils.py:53\u001b[0m, in \u001b[0;36mcomp_cal_counter\u001b[0;34m(*args)\u001b[0m\n\u001b[1;32m     49\u001b[0m                         \u001b[39m# Can't use try except here because it needs else statement\u001b[39;00m\n\u001b[1;32m     50\u001b[0m                         \u001b[39m# If else statement is used to print out the error message, it will print out the error message for every item in the list  \u001b[39;00m\n\u001b[1;32m     52\u001b[0m \u001b[39mif\u001b[39;00m total_calories \u001b[39m>\u001b[39m \u001b[39m2000\u001b[39m:\n\u001b[0;32m---> 53\u001b[0m         \u001b[39mraise\u001b[39;00m BigMealException(total_calories)\n\u001b[1;32m     55\u001b[0m \u001b[39mreturn\u001b[39;00m total_calories\n",
      "\u001b[0;31mBigMealException\u001b[0m: Meal has 3210 calories, which is too much!"
     ]
    }
   ],
   "source": [
    "import backEnd.utils as utils\n",
    "\n",
    "results = utils.comp_cal_counter('combo-1', 'combo-1', 'combo-1')\n",
    "print(f\"The total calory count is {results}\")"
   ]
  },
  {
   "cell_type": "markdown",
   "metadata": {},
   "source": [
    "# dictionary method\n",
    "\n",
    "9. Can order by meal or combo\n",
    "10. Can order by id or name\n"
   ]
  },
  {
   "cell_type": "code",
   "execution_count": 1,
   "metadata": {},
   "outputs": [
    {
     "ename": "BigMealException",
     "evalue": "Meal has 3210 calories, which is too much!",
     "output_type": "error",
     "traceback": [
      "\u001b[0;31m---------------------------------------------------------------------------\u001b[0m",
      "\u001b[0;31mBigMealException\u001b[0m                          Traceback (most recent call last)",
      "\u001b[1;32m/Users/dilancroos/python_on_VS/python_final/main.ipynb Cell 6\u001b[0m line \u001b[0;36m3\n\u001b[1;32m      <a href='vscode-notebook-cell:/Users/dilancroos/python_on_VS/python_final/main.ipynb#W5sZmlsZQ%3D%3D?line=0'>1</a>\u001b[0m \u001b[39mimport\u001b[39;00m \u001b[39mbackEnd\u001b[39;00m\u001b[39m.\u001b[39;00m\u001b[39mutils\u001b[39;00m \u001b[39mas\u001b[39;00m \u001b[39mutils\u001b[39;00m\n\u001b[0;32m----> <a href='vscode-notebook-cell:/Users/dilancroos/python_on_VS/python_final/main.ipynb#W5sZmlsZQ%3D%3D?line=2'>3</a>\u001b[0m results \u001b[39m=\u001b[39m utils\u001b[39m.\u001b[39;49mcomp_cal_counter2(\u001b[39m'\u001b[39;49m\u001b[39mcombo-1\u001b[39;49m\u001b[39m'\u001b[39;49m, \u001b[39m'\u001b[39;49m\u001b[39mcombo-1\u001b[39;49m\u001b[39m'\u001b[39;49m, \u001b[39m'\u001b[39;49m\u001b[39mcombo-1\u001b[39;49m\u001b[39m'\u001b[39;49m)\n\u001b[1;32m      <a href='vscode-notebook-cell:/Users/dilancroos/python_on_VS/python_final/main.ipynb#W5sZmlsZQ%3D%3D?line=3'>4</a>\u001b[0m \u001b[39mprint\u001b[39m(\u001b[39mf\u001b[39m\u001b[39m\"\u001b[39m\u001b[39mThe total calory count is \u001b[39m\u001b[39m{\u001b[39;00mresults\u001b[39m}\u001b[39;00m\u001b[39m\"\u001b[39m)\n",
      "File \u001b[0;32m~/python_on_VS/python_final/backEnd/utils.py:78\u001b[0m, in \u001b[0;36mcomp_cal_counter2\u001b[0;34m(*list_of_items)\u001b[0m\n\u001b[1;32m     75\u001b[0m         \u001b[39mprint\u001b[39m(\u001b[39mf\u001b[39m\u001b[39m\"\u001b[39m\u001b[39mItem \u001b[39m\u001b[39m'\u001b[39m\u001b[39m{\u001b[39;00mitem\u001b[39m}\u001b[39;00m\u001b[39m'\u001b[39m\u001b[39m not found\u001b[39m\u001b[39m\"\u001b[39m)\n\u001b[1;32m     77\u001b[0m \u001b[39mif\u001b[39;00m total_calories \u001b[39m>\u001b[39m \u001b[39m2000\u001b[39m:\n\u001b[0;32m---> 78\u001b[0m     \u001b[39mraise\u001b[39;00m BigMealException(total_calories)\n\u001b[1;32m     80\u001b[0m \u001b[39mreturn\u001b[39;00m total_calories\n",
      "\u001b[0;31mBigMealException\u001b[0m: Meal has 3210 calories, which is too much!"
     ]
    }
   ],
   "source": [
    "import backEnd.utils as utils\n",
    "\n",
    "results = utils.comp_cal_counter2('combo-1', 'combo-1', 'combo-1')\n",
    "print(f\"The total calory count is {results}\")"
   ]
  },
  {
   "cell_type": "markdown",
   "metadata": {},
   "source": [
    "# Price counter"
   ]
  },
  {
   "cell_type": "code",
   "execution_count": 1,
   "metadata": {},
   "outputs": [
    {
     "name": "stdout",
     "output_type": "stream",
     "text": [
      "The total price is 18\n"
     ]
    }
   ],
   "source": [
    "import backEnd.utils as utils\n",
    "\n",
    "results = utils.price_counter('meal-1','meal-2','meal-3')\n",
    "\n",
    "print(f\"The total price is {results}\")"
   ]
  },
  {
   "cell_type": "markdown",
   "metadata": {},
   "source": [
    "# Using json files"
   ]
  },
  {
   "cell_type": "code",
   "execution_count": 5,
   "metadata": {},
   "outputs": [
    {
     "name": "stdout",
     "output_type": "stream",
     "text": [
      "{'meals': [{'id': 'meal-1', 'name': 'hamburger', 'calories': 600, 'price': 5}, {'id': 'meal-2', 'name': 'cheese burger', 'calories': 750, 'price': 7}, {'id': 'meal-3', 'name': 'veggie burger', 'calories': 400, 'price': 6}, {'id': 'meal-4', 'name': 'vegan burger', 'calories': 350, 'price': 6}, {'id': 'meal-5', 'name': 'sweet potatoes', 'calories': 230, 'price': 3}, {'id': 'meal-6', 'name': 'salad', 'calories': 15, 'price': 4}, {'id': 'meal-7', 'name': 'iced tea', 'calories': 70, 'price': 2}, {'id': 'meal-8', 'name': 'lemonade', 'calories': 90, 'price': 2}]}\n"
     ]
    }
   ],
   "source": [
    "import json\n",
    "\n",
    "with open(\"data/meals.json\") as file:\n",
    "\tmeals = json.load(file)\n",
    "\n",
    "print(meals)"
   ]
  },
  {
   "cell_type": "code",
   "execution_count": 6,
   "metadata": {},
   "outputs": [
    {
     "name": "stdout",
     "output_type": "stream",
     "text": [
      "{'meals': [{'id': 'meal-1', 'name': 'hamburger', 'calories': 600, 'price': 5}, {'id': 'meal-2', 'name': 'cheese burger', 'calories': 750, 'price': 7}, {'id': 'meal-3', 'name': 'veggie burger', 'calories': 400, 'price': 6}, {'id': 'meal-4', 'name': 'vegan burger', 'calories': 350, 'price': 6}, {'id': 'meal-5', 'name': 'sweet potatoes', 'calories': 230, 'price': 3}, {'id': 'meal-6', 'name': 'salad', 'calories': 15, 'price': 4}, {'id': 'meal-7', 'name': 'iced tea', 'calories': 70, 'price': 2}, {'id': 'meal-8', 'name': 'lemonade', 'calories': 90, 'price': 2}]}\n"
     ]
    }
   ],
   "source": [
    "import json\n",
    "\n",
    "file = open(\"data/meals.json\")\n",
    "meals = json.load(file)\n",
    "file.close()\n",
    "\n",
    "print(meals)"
   ]
  },
  {
   "cell_type": "code",
   "execution_count": 7,
   "metadata": {},
   "outputs": [
    {
     "ename": "TypeError",
     "evalue": "string indices must be integers, not 'str'",
     "output_type": "error",
     "traceback": [
      "\u001b[0;31m---------------------------------------------------------------------------\u001b[0m",
      "\u001b[0;31mTypeError\u001b[0m                                 Traceback (most recent call last)",
      "\u001b[1;32m/Users/dilancroos/python_on_VS/python_final/main.ipynb Cell 12\u001b[0m line \u001b[0;36m5\n\u001b[1;32m      <a href='vscode-notebook-cell:/Users/dilancroos/python_on_VS/python_final/main.ipynb#X14sZmlsZQ%3D%3D?line=1'>2</a>\u001b[0m \u001b[39mimport\u001b[39;00m \u001b[39mbackEnd\u001b[39;00m\u001b[39m.\u001b[39;00m\u001b[39mclasses\u001b[39;00m \u001b[39mas\u001b[39;00m \u001b[39mclasses\u001b[39;00m\n\u001b[1;32m      <a href='vscode-notebook-cell:/Users/dilancroos/python_on_VS/python_final/main.ipynb#X14sZmlsZQ%3D%3D?line=3'>4</a>\u001b[0m order \u001b[39m=\u001b[39m classes\u001b[39m.\u001b[39mOrder(\u001b[39m'\u001b[39m\u001b[39mCombo-1\u001b[39m\u001b[39m'\u001b[39m)\n\u001b[0;32m----> <a href='vscode-notebook-cell:/Users/dilancroos/python_on_VS/python_final/main.ipynb#X14sZmlsZQ%3D%3D?line=4'>5</a>\u001b[0m \u001b[39mprint\u001b[39m(order\u001b[39m.\u001b[39;49mcalories)\n",
      "File \u001b[0;32m~/python_on_VS/python_final/backEnd/classes.py:56\u001b[0m, in \u001b[0;36mOrder.calories\u001b[0;34m(self)\u001b[0m\n\u001b[1;32m     54\u001b[0m \u001b[39mfor\u001b[39;00m meal \u001b[39min\u001b[39;00m meals:\n\u001b[1;32m     55\u001b[0m     \u001b[39mtry\u001b[39;00m:\n\u001b[0;32m---> 56\u001b[0m         \u001b[39mif\u001b[39;00m item \u001b[39m==\u001b[39m meal[\u001b[39m'\u001b[39;49m\u001b[39mid\u001b[39;49m\u001b[39m'\u001b[39;49m]:\n\u001b[1;32m     57\u001b[0m             total_calories \u001b[39m+\u001b[39m\u001b[39m=\u001b[39m meal[\u001b[39m'\u001b[39m\u001b[39mcalories\u001b[39m\u001b[39m'\u001b[39m]\n\u001b[1;32m     58\u001b[0m         \u001b[39melif\u001b[39;00m item \u001b[39m==\u001b[39m meal[\u001b[39m'\u001b[39m\u001b[39mname\u001b[39m\u001b[39m'\u001b[39m]:\n",
      "\u001b[0;31mTypeError\u001b[0m: string indices must be integers, not 'str'"
     ]
    }
   ],
   "source": [
    "# using classes.py file in the backEnd folder, we can import the classes and use them in main.ipynb\n",
    "import backEnd.classes as classes\n",
    "\n",
    "order = classes.Order('Combo-1')\n",
    "print(order.calories)"
   ]
  }
 ],
 "metadata": {
  "kernelspec": {
   "display_name": ".venv",
   "language": "python",
   "name": "python3"
  },
  "language_info": {
   "codemirror_mode": {
    "name": "ipython",
    "version": 3
   },
   "file_extension": ".py",
   "mimetype": "text/x-python",
   "name": "python",
   "nbconvert_exporter": "python",
   "pygments_lexer": "ipython3",
   "version": "3.11.5"
  },
  "orig_nbformat": 4
 },
 "nbformat": 4,
 "nbformat_minor": 2
}
